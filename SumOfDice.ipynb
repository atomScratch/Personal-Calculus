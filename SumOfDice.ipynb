{
 "cells": [
  {
   "cell_type": "code",
   "execution_count": 25,
   "metadata": {},
   "outputs": [],
   "source": [
    "import random\n",
    "import matplotlib.pyplot as plt\n",
    "%matplotlib inline\n",
    "\n",
    "def roll_die(n=1,d=6):\n",
    "    sum = 0\n",
    "    for roll in range(n):\n",
    "        sum += random.randint(1,d)\n",
    "    return sum"
   ]
  },
  {
   "cell_type": "code",
   "execution_count": 26,
   "metadata": {},
   "outputs": [
    {
     "data": {
      "text/plain": [
       "6"
      ]
     },
     "execution_count": 26,
     "metadata": {},
     "output_type": "execute_result"
    }
   ],
   "source": [
    "roll_die()"
   ]
  },
  {
   "cell_type": "code",
   "execution_count": 27,
   "metadata": {},
   "outputs": [],
   "source": [
    "def run_die_experiment(n, d , N_trials = 1000):\n",
    "    list_of_sums = []\n",
    "    \n",
    "    for trial in range(N_trials):\n",
    "        list_of_sums.append(roll_die(n,d))\n",
    "    return list_of_sums"
   ]
  },
  {
   "cell_type": "code",
   "execution_count": 37,
   "metadata": {},
   "outputs": [
    {
     "data": {
      "text/plain": [
       "(array([ 162.,    0.,  185.,    0.,  170.,    0.,  154.,    0.,  163.,  166.]),\n",
       " array([ 1. ,  1.5,  2. ,  2.5,  3. ,  3.5,  4. ,  4.5,  5. ,  5.5,  6. ]),\n",
       " <a list of 10 Patch objects>)"
      ]
     },
     "execution_count": 37,
     "metadata": {},
     "output_type": "execute_result"
    },
    {
     "data": {
      "image/png": "[encoded data removed]",
      "text/plain": [
       "<matplotlib.figure.Figure at 0x1d4e84bb0f0>"
      ]
     },
     "metadata": {
      "needs_background": "light"
     },
     "output_type": "display_data"
    }
   ],
   "source": [
    "plt.hist(run_die_experiment(1,6))"
   ]
  },
  {
   "cell_type": "code",
   "execution_count": 36,
   "metadata": {},
   "outputs": [
    {
     "data": {
      "text/plain": [
       "(array([  21.,   51.,   99.,  115.,  161.,  168.,  133.,   89.,   76.,   87.]),\n",
       " array([  2.,   3.,   4.,   5.,   6.,   7.,   8.,   9.,  10.,  11.,  12.]),\n",
       " <a list of 10 Patch objects>)"
      ]
     },
     "execution_count": 36,
     "metadata": {},
     "output_type": "execute_result"
    },
    {
     "data": {
      "image/png": "[encoded data removed]",
      "text/plain": [
       "<matplotlib.figure.Figure at 0x1d4e8319e80>"
      ]
     },
     "metadata": {
      "needs_background": "light"
     },
     "output_type": "display_data"
    }
   ],
   "source": [
    "plt.hist(run_die_experiment(2,6))"
   ]
  },
  {
   "cell_type": "code",
   "execution_count": 33,
   "metadata": {},
   "outputs": [
    {
     "data": {
      "text/plain": [
       "(array([  1.,   0.,   0.,   1.,   0.,   2.,   0.,   3.,   5.,   2.,   6.,\n",
       "          9.,   8.,  13.,  19.,  15.,  20.,  31.,  40.,  28.,  44.,  35.,\n",
       "         36.,  37.,  42.,  52.,  57.,  40.,  50.,  46.,  39.,  55.,  39.,\n",
       "         29.,  37.,  24.,  26.,  24.,  22.,  23.,   8.,   7.,   8.,   2.,\n",
       "          4.,   5.,   1.,   2.,   0.,   3.]),\n",
       " array([ 620.,  623.,  626.,  629.,  632.,  635.,  638.,  641.,  644.,\n",
       "         647.,  650.,  653.,  656.,  659.,  662.,  665.,  668.,  671.,\n",
       "         674.,  677.,  680.,  683.,  686.,  689.,  692.,  695.,  698.,\n",
       "         701.,  704.,  707.,  710.,  713.,  716.,  719.,  722.,  725.,\n",
       "         728.,  731.,  734.,  737.,  740.,  743.,  746.,  749.,  752.,\n",
       "         755.,  758.,  761.,  764.,  767.,  770.]),\n",
       " <a list of 50 Patch objects>)"
      ]
     },
     "execution_count": 33,
     "metadata": {},
     "output_type": "execute_result"
    },
    {
     "data": {
      "image/png": "[encoded data removed]",
      "text/plain": [
       "<matplotlib.figure.Figure at 0x1d4e6f72160>"
      ]
     },
     "metadata": {
      "needs_background": "light"
     },
     "output_type": "display_data"
    }
   ],
   "source": [
    "plt.hist(run_die_experiment(200,6),50)"
   ]
  },
  {
   "cell_type": "code",
   "execution_count": null,
   "metadata": {},
   "outputs": [],
   "source": []
  }
 ],
 "metadata": {
  "kernelspec": {
   "display_name": "Python 3",
   "language": "python",
   "name": "python3"
  },
  "language_info": {
   "codemirror_mode": {
    "name": "ipython",
    "version": 3
   },
   "file_extension": ".py",
   "mimetype": "text/x-python",
   "name": "python",
   "nbconvert_exporter": "python",
   "pygments_lexer": "ipython3",
   "version": "3.6.6"
  }
 },
 "nbformat": 4,
 "nbformat_minor": 2
}
