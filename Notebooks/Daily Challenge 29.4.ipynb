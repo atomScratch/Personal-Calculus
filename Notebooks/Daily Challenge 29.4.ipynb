{
 "cells": [
  {
   "cell_type": "code",
   "execution_count": 8,
   "metadata": {},
   "outputs": [],
   "source": [
    "def rearrange_sum(S, terms=100):\n",
    "    harmonic_series = [(-1)**(x +1) * (1/x) for x in range(1, (2*terms)+1)]\n",
    "    harmonic_series_positive = [x for x in harmonic_series if x > 0]\n",
    "    harmonic_series_negative = [x for x in harmonic_series if x < 0]\n",
    "    working_series = []\n",
    "    for x in range(terms):\n",
    "        if sum(working_series) < S:\n",
    "            working_series.append(harmonic_series_positive[0])\n",
    "            del harmonic_series_positive[0]\n",
    "        elif sum(working_series) > S:\n",
    "            working_series.append(harmonic_series_negative[0])\n",
    "            del harmonic_series_negative[0]\n",
    "    return working_series"
   ]
  },
  {
   "cell_type": "code",
   "execution_count": 9,
   "metadata": {},
   "outputs": [
    {
     "data": {
      "text/plain": [
       "[1.0, -0.5, 0.3333333333333333, -0.25, 0.2]"
      ]
     },
     "execution_count": 9,
     "metadata": {},
     "output_type": "execute_result"
    }
   ],
   "source": [
    "rearrange_sum(0.69314718056,5) # Checking if ln(2) gives the harmonic series."
   ]
  },
  {
   "cell_type": "code",
   "execution_count": 10,
   "metadata": {},
   "outputs": [
    {
     "data": {
      "text/plain": [
       "[1.0, 0.3333333333333333, 0.2, -0.5, 0.14285714285714285]"
      ]
     },
     "execution_count": 10,
     "metadata": {},
     "output_type": "execute_result"
    }
   ],
   "source": [
    "rearrange_sum(1.5,5) # Checking if 1.5 gives the expected series."
   ]
  }
 ],
 "metadata": {
  "kernelspec": {
   "display_name": "Python 3",
   "language": "python",
   "name": "python3"
  },
  "language_info": {
   "codemirror_mode": {
    "name": "ipython",
    "version": 3
   },
   "file_extension": ".py",
   "mimetype": "text/x-python",
   "name": "python",
   "nbconvert_exporter": "python",
   "pygments_lexer": "ipython3",
   "version": "3.6.6"
  }
 },
 "nbformat": 4,
 "nbformat_minor": 2
}
