{
 "cells": [
  {
   "cell_type": "code",
   "execution_count": 3,
   "metadata": {},
   "outputs": [],
   "source": [
    "def rearrange_sum(S, terms=100):\n",
    "    harmonic_series = [(-1)**(x +1) * (1/x) for x in range(1, (2*terms)+1)]\n",
    "    harmonic_series_positive = [x for x in harmonic_series if x > 0]\n",
    "    harmonic_series_negative = [x for x in harmonic_series if x < 0]\n",
    "    working_series = []\n",
    "    for x in range(terms):\n",
    "        if sum(working_series) < S:\n",
    "            working_series.append(harmonic_series_positive[0])\n",
    "            del harmonic_series_positive[0]\n",
    "        if sum(working_series) > S:\n",
    "            working_series.append(harmonic_series_negative[0])\n",
    "            del harmonic_series_negative[0]\n",
    "    return working_series"
   ]
  }
 ],
 "metadata": {
  "kernelspec": {
   "display_name": "Python 3",
   "language": "python",
   "name": "python3"
  },
  "language_info": {
   "codemirror_mode": {
    "name": "ipython",
    "version": 3
   },
   "file_extension": ".py",
   "mimetype": "text/x-python",
   "name": "python",
   "nbconvert_exporter": "python",
   "pygments_lexer": "ipython3",
   "version": "3.6.6"
  }
 },
 "nbformat": 4,
 "nbformat_minor": 2
}
