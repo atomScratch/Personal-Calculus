{
 "cells": [
  {
   "cell_type": "code",
   "execution_count": 19,
   "metadata": {},
   "outputs": [],
   "source": [
    "import matplotlib.pyplot as plt\n",
    "import random\n",
    "import scipy.special\n",
    "import scipy\n",
    "import numpy as np\n",
    "\n",
    "def unfair_flip(p = 0.5, n = 100):\n",
    "    results_list = []\n",
    "    for run in range(n):\n",
    "        if random.random() < p:\n",
    "            results_list.append(1)\n",
    "        else:\n",
    "            results_list.append(0)\n",
    "    return results_list"
   ]
  },
  {
   "cell_type": "code",
   "execution_count": 20,
   "metadata": {},
   "outputs": [],
   "source": [
    "def plot_posterior(outcomes, time):\n",
    "    \n",
    "    sliced_outcomes = outcomes[:time]\n",
    "    heads_count = sum(sliced_outcomes)\n",
    "    tails_count = time - heads_count\n",
    "    \n",
    "    def posterior(p):\n",
    "        return np.power(p, heads_count)*np.power(1-p, tails_count)/scipy.special.beta(heads_count + 1, tails_count + 1)\n",
    "    \n",
    "    plot_x = np.linspace(0, 1, 100)\n",
    "    plot_y = np.array( [posterior(x) for x in plot_x ] )\n",
    "\n",
    "    plt.plot(plot_x, plot_y)\n",
    "    # plt.fill_between(plot_x, 0, plot_y, alpha=0.5)\n",
    "    \n",
    "    return"
   ]
  },
  {
   "cell_type": "code",
   "execution_count": 21,
   "metadata": {},
   "outputs": [
    {
     "data": {
      "image/png": "[encoded data removed]",
      "text/plain": [
       "<matplotlib.figure.Figure at 0x1cb814ef7b8>"
      ]
     },
     "metadata": {
      "needs_background": "light"
     },
     "output_type": "display_data"
    }
   ],
   "source": [
    "plot_posterior(unfair_flip(0.33,100),100)"
   ]
  },
  {
   "cell_type": "code",
   "execution_count": null,
   "metadata": {},
   "outputs": [],
   "source": []
  }
 ],
 "metadata": {
  "kernelspec": {
   "display_name": "Python 3",
   "language": "python",
   "name": "python3"
  },
  "language_info": {
   "codemirror_mode": {
    "name": "ipython",
    "version": 3
   },
   "file_extension": ".py",
   "mimetype": "text/x-python",
   "name": "python",
   "nbconvert_exporter": "python",
   "pygments_lexer": "ipython3",
   "version": "3.6.6"
  }
 },
 "nbformat": 4,
 "nbformat_minor": 2
}
