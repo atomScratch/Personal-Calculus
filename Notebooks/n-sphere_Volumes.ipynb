{
 "cells": [
  {
   "cell_type": "code",
   "execution_count": null,
   "metadata": {},
   "outputs": [],
   "source": [
    "# We shall be applying the Monte Carlo method to approximate the area of unit spheres of dimension n.\n",
    "\n",
    "import numpy as np\n",
    "\n",
    "# Define a function to generate a point in n dimensions in some cube range. \n",
    "def random_npoint(n,low,high):\n",
    "    point = []\n",
    "    for x in range(n):\n",
    "        point.append(np.random.uniform(low,high))\n",
    "    return point"
   ]
  },
  {
   "cell_type": "code",
   "execution_count": 2,
   "metadata": {},
   "outputs": [],
   "source": [
    "def nsphere_volume(n,iterations):\n",
    "    withincounter = 0\n",
    "    for counter in range(iterations):\n",
    "        valuesum = 0\n",
    "        point = random_npoint(n,-1,1)\n",
    "        for value in point:\n",
    "            valuesum += value*value\n",
    "        if valuesum <= 1:\n",
    "            withincounter += 1\n",
    "    return (withincounter/iterations) * 2**n"
   ]
  },
  {
   "cell_type": "code",
   "execution_count": 3,
   "metadata": {},
   "outputs": [
    {
     "name": "stdout",
     "output_type": "stream",
     "text": [
      "A 1-dimensional sphere has volume 2.0\n",
      "A 2-dimensional sphere has volume 3.13912\n",
      "A 3-dimensional sphere has volume 4.17072\n",
      "A 4-dimensional sphere has volume 4.96496\n",
      "A 5-dimensional sphere has volume 5.2784\n",
      "A 6-dimensional sphere has volume 5.08288\n",
      "A 7-dimensional sphere has volume 4.78848\n",
      "A 8-dimensional sphere has volume 4.0448\n",
      "A 9-dimensional sphere has volume 3.18464\n",
      "A 10-dimensional sphere has volume 2.70336\n",
      "A 11-dimensional sphere has volume 1.86368\n",
      "A 12-dimensional sphere has volume 1.06496\n"
     ]
    }
   ],
   "source": [
    "for d in range(1,13):\n",
    "    print(\"A \" + str(d) + \"-dimensional sphere has volume \" + str(nsphere_volume(d,100000)))"
   ]
  },
  {
   "cell_type": "code",
   "execution_count": null,
   "metadata": {},
   "outputs": [],
   "source": []
  }
 ],
 "metadata": {
  "kernelspec": {
   "display_name": "Python 3",
   "language": "python",
   "name": "python3"
  },
  "language_info": {
   "codemirror_mode": {
    "name": "ipython",
    "version": 3
   },
   "file_extension": ".py",
   "mimetype": "text/x-python",
   "name": "python",
   "nbconvert_exporter": "python",
   "pygments_lexer": "ipython3",
   "version": "3.6.6"
  }
 },
 "nbformat": 4,
 "nbformat_minor": 2
}
