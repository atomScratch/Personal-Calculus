{
 "cells": [
  {
   "cell_type": "markdown",
   "metadata": {},
   "source": [
    "Outline:\n",
    "(1) Introduce PDFs (5-10 min)\n",
    "(2) Introduce random walk and code\n",
    "(3) 26.1 Part a bullet point 1 - histrograms of random walks\n",
    "(4) Distorted random walks (higher/lower probability or magnitude in one direction, slowing/increasing magnitude as |y| increases\n",
    "(5) observe sqrt nature of random walk\n",
    "(5) 25.7b and motivation in 26.1b\n",
    "\n",
    "25.7b follows:"
   ]
  },
  {
   "cell_type": "markdown",
   "metadata": {},
   "source": [
    "Detailed plans for describing diffusion and random walk follow:\n",
    "\n",
    "To describe diffusion, we shall introduce it as a subset of the random walk. Begin indirectly talking about the PDF by proposing the problem and solution for 24.2a with some additional english. Print out the graph seen in the RandomWalks notebook to demonstrate the random movement of the particles, and show that that graph is like a gaussian when seen as a histogram (Note: Perhaps I could see how a random walk with random float distance up/down works?). One may also motivate the random walk in the (x,y) plane as a example of diffusion on a plane."
   ]
  },
  {
   "cell_type": "markdown",
   "metadata": {},
   "source": [
    "# Random Walks & Diffusion - a JuPyter story"
   ]
  },
  {
   "cell_type": "markdown",
   "metadata": {},
   "source": [
    "Diffusion is the random bouncing brought on  Consider a single particle located in a line of solute:\n",
    "![title](img/rw.png)"
   ]
  },
  {
   "cell_type": "code",
   "execution_count": 30,
   "metadata": {},
   "outputs": [],
   "source": [
    "import matplotlib.pyplot as plt\n",
    "import numpy as np\n",
    "import random\n",
    "\n",
    "def random_walk(n_steps=1000, deltaX = 1, deltaY = 1):\n",
    "    step_list = [(0,0)]\n",
    "    up_down_vals = [-1*deltaY,deltaY]\n",
    "    for n in range(1,n_steps):\n",
    "        step_list.append((deltaX*n, (step_list[n-1][1] + random.choice(up_down_vals))))\n",
    "    return step_list"
   ]
  },
  {
   "cell_type": "markdown",
   "metadata": {},
   "source": [
    "# The Beta Distribution & Random Walks"
   ]
  },
  {
   "cell_type": "markdown",
   "metadata": {},
   "source": [
    "The code seen below performs one function; counts how many times a random walk is positive, and divides it by the total time of the walk."
   ]
  },
  {
   "cell_type": "code",
   "execution_count": 31,
   "metadata": {},
   "outputs": [],
   "source": [
    "def count_positive(n_walks = 100, n_steps = 1000):\n",
    "    positive_fractions = []\n",
    "    # We begin by iterating by the given number of walks\n",
    "    for walk in range(n_walks):\n",
    "        positive_counter = 0\n",
    "        # Make a temporary variable for the walk in question\n",
    "        current_walk = random_walk(n_steps)\n",
    "        for value in current_walk:\n",
    "            if value[1] > 0:\n",
    "                positive_counter += 1\n",
    "        positive_fractions.append(positive_counter/n_steps)\n",
    "    return positive_fractions"
   ]
  },
  {
   "cell_type": "code",
   "execution_count": 50,
   "metadata": {},
   "outputs": [
    {
     "name": "stdout",
     "output_type": "stream",
     "text": [
      "[10.070879119947094, 3.0531696714487722, 2.2210155716429534, 1.8374304674737469, 1.6060231188228964, 1.4475497090208995, 1.3306144378375531, 1.2399692893027063, 1.1672006815303502, 1.1072376837458848, 1.0568188362874347, 1.0137390779228133, 0.97644732827485858, 0.9438168046325901, 0.91500678724239082, 0.88937570784746978, 0.86642446718834065, 0.84575829621053067, 0.82706039509936935, 0.81007328118845601, 0.79458531684814193, 0.78042079965114941, 0.76743255328573357, 0.75549630666172696, 0.74450637307952183, 0.73437228888560191, 0.7250161700079818, 0.71637061236240307, 0.70837700906014622, 0.70098419044144367, 0.6941473166169746, 0.68782696933266108, 0.68198840252885207, 0.67660092026931606, 0.67163735768205834, 0.66707364582108519, 0.66288844537701275, 0.65906283725734416, 0.6555800604573655, 0.65242528951991441, 0.64958544536204321, 0.64704903442190831, 0.64480601201990018, 0.64284766658686443, 0.64116652202955904, 0.63975625601020214, 0.63861163233718832, 0.63772844601665701, 0.63710347981459881, 0.63673447143866402, 0.63662009067770631, 0.63675992604367904, 0.6371544806520002, 0.63780517725932906, 0.63871437255789554, 0.63988538100894576, 0.64132250869057172, 0.64303109784367207, 0.64501758303132417, 0.64728956008990945, 0.64985586935500794, 0.65272669500373026, 0.65591368278310236, 0.65943007891072203, 0.66329089356383442, 0.66751309314802398, 0.67211582649827095, 0.67712069136743147, 0.68255204907211675, 0.6884373970893235, 0.69480781185810025, 0.70169847721442169, 0.70914931801486614, 0.71720576391905877, 0.72591967546895675, 0.73535047418617483, 0.7455665313545492, 0.75664688784062994, 0.7686834017569808, 0.78178345502254509, 0.79607339852535264, 0.81170298576586197, 0.82885114777869284, 0.84773361586635099, 0.86861313300056864, 0.89181335996717914, 0.91773816592126689, 0.94689895195068663, 0.97995428242006333, 1.0177689575056887, 1.0615048977858752, 1.1127662811659125, 1.1738418648263305, 1.2481320781630705, 1.3409542812373736, 1.4611982717699299, 1.625147272835453, 1.8668704131928957, 2.2747565068362627, 3.2007193286864051]\n"
     ]
    },
    {
     "data": {
      "text/plain": [
       "[<matplotlib.lines.Line2D at 0x2df2d2692e8>]"
      ]
     },
     "execution_count": 50,
     "metadata": {},
     "output_type": "execute_result"
    },
    {
     "data": {
      "image/png": "[encoded data removed]",
      "text/plain": [
       "<matplotlib.figure.Figure at 0x2df2d088f98>"
      ]
     },
     "metadata": {
      "needs_background": "light"
     },
     "output_type": "display_data"
    }
   ],
   "source": [
    "runs = 5000\n",
    "steps = 100\n",
    "plt.hist(count_positive(runs, steps),bins=50)\n",
    "\n",
    "def arcsine_distribution(x_val):\n",
    "    return 1.0/(np.pi*np.sqrt(x_val*(1-x_val)))\n",
    "\n",
    "arcsine_range = []\n",
    "\n",
    "arcsine_domain = np.linspace(0.001,1,steps, endpoint = False)\n",
    "for x_val in arcsine_domain:\n",
    "    arcsine_range.append(arcsin_distribution(x_val))\n",
    "    \n",
    "print(arcsine_range)\n",
    "\n",
    "plt.plot(arcsine_domain, arcsine_range, '-g')"
   ]
  },
  {
   "cell_type": "code",
   "execution_count": null,
   "metadata": {},
   "outputs": [],
   "source": []
  }
 ],
 "metadata": {
  "kernelspec": {
   "display_name": "Python 3",
   "language": "python",
   "name": "python3"
  },
  "language_info": {
   "codemirror_mode": {
    "name": "ipython",
    "version": 3
   },
   "file_extension": ".py",
   "mimetype": "text/x-python",
   "name": "python",
   "nbconvert_exporter": "python",
   "pygments_lexer": "ipython3",
   "version": "3.6.6"
  }
 },
 "nbformat": 4,
 "nbformat_minor": 2
}
