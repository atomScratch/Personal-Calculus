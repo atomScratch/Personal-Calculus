{
 "cells": [
  {
   "cell_type": "markdown",
   "metadata": {},
   "source": [
    "Outline:\n",
    "(1) Introduce PDFs (5-10 min)\n",
    "(2) Introduce random walk and code\n",
    "(3) 26.1 Part a bullet point 1 - histrograms of random walks\n",
    "(4) Distorted random walks (higher/lower probability or magnitude in one direction, slowing/increasing magnitude as |y| increases\n",
    "(5) observe sqrt nature of random walk\n",
    "(5) 25.7b and motivation in 26.1b\n",
    "\n",
    "25.7b follows:"
   ]
  },
  {
   "cell_type": "markdown",
   "metadata": {},
   "source": [
    "Detailed plans for describing diffusion and random walk follow:\n",
    "\n",
    "To describe diffusion, we shall introduce it as a subset of the random walk. Begin indirectly talking about the PDF by proposing the problem and solution for 24.2a with some additional english. Print out the graph seen in the RandomWalks notebook to demonstrate the random movement of the particles, and show that that graph is like a gaussian when seen as a histogram (Note: Perhaps I could see how a random walk with random float distance up/down works?). One may also motivate the random walk in the (x,y) plane as a example of diffusion on a plane."
   ]
  },
  {
   "cell_type": "markdown",
   "metadata": {},
   "source": [
    "# Random Walks & Diffusion - a JuPyter story"
   ]
  },
  {
   "cell_type": "markdown",
   "metadata": {},
   "source": [
    "Diffusion is the random bouncing brought on  Consider a single particle located in a line of solute:\n",
    "![title](img/rw.png)"
   ]
  },
  {
   "cell_type": "code",
   "execution_count": 6,
   "metadata": {},
   "outputs": [],
   "source": [
    "import matplotlib.pyplot as plt\n",
    "import numpy as np\n",
    "import random\n",
    "\n",
    "def random_walk(n_steps=1000, deltaX = 1, deltaY = 1):\n",
    "    step_list = [(0,0)]\n",
    "    up_down_vals = [-1*deltaY,deltaY]\n",
    "    for n in range(1,n_steps):\n",
    "        step_list.append((deltaX*n, (step_list[n-1][1] + random.choice(up_down_vals))))\n",
    "    return step_list"
   ]
  },
  {
   "cell_type": "markdown",
   "metadata": {},
   "source": [
    "# The Beta Distribution & Random Walks"
   ]
  },
  {
   "cell_type": "markdown",
   "metadata": {},
   "source": [
    "The code seen below performs one function; counts how many times a random walk is positive, and divides it by the total time of the walk."
   ]
  },
  {
   "cell_type": "code",
   "execution_count": 7,
   "metadata": {},
   "outputs": [],
   "source": [
    "def count_positive(n_walks = 100, n_steps = 1000):\n",
    "    positive_fractions = []\n",
    "    # We begin by iterating by the given number of walks\n",
    "    for walk in range(n_walks):\n",
    "        positive_counter = 0\n",
    "        # Make a temporary variable for the walk in question\n",
    "        current_walk = random_walk(n_steps)\n",
    "        for value in current_walk:\n",
    "            if value[1] > 0:\n",
    "                positive_counter += 1\n",
    "        positive_fractions.append(positive_counter/n_steps)\n",
    "    return positive_fractions"
   ]
  },
  {
   "cell_type": "code",
   "execution_count": 18,
   "metadata": {},
   "outputs": [
    {
     "data": {
      "text/plain": [
       "(array([ 742.,  252.,  200.,  182.,  144.,  138.,  131.,  144.,  129.,\n",
       "         131.,  101.,  102.,   96.,   96.,   94.,   89.,   83.,   83.,\n",
       "          89.,   91.,   91.,   85.,   76.,   72.,   67.,   60.,   67.,\n",
       "          87.,   75.,   66.,   62.,   63.,   69.,   71.,   62.,   66.,\n",
       "          74.,   66.,   69.,   64.,   57.,   46.,   73.,   65.,   68.,\n",
       "          75.,   69.,   51.,   65.,   67.,   69.,   55.,   74.,   69.,\n",
       "          60.,   62.,   72.,   50.,   70.,   66.,   69.,   71.,   61.,\n",
       "          76.,   77.,   60.,   66.,   57.,   61.,   59.,   73.,   55.,\n",
       "          69.,   71.,   79.,   84.,   59.,   82.,   90.,   84.,   84.,\n",
       "          98.,   90.,   75.,   92.,   90.,  105.,   94.,   89.,   96.,\n",
       "          92.,  123.,  129.,  107.,  129.,  150.,  152.,  187.,  252.,  551.]),\n",
       " array([ 0.     ,  0.00999,  0.01998,  0.02997,  0.03996,  0.04995,\n",
       "         0.05994,  0.06993,  0.07992,  0.08991,  0.0999 ,  0.10989,\n",
       "         0.11988,  0.12987,  0.13986,  0.14985,  0.15984,  0.16983,\n",
       "         0.17982,  0.18981,  0.1998 ,  0.20979,  0.21978,  0.22977,\n",
       "         0.23976,  0.24975,  0.25974,  0.26973,  0.27972,  0.28971,\n",
       "         0.2997 ,  0.30969,  0.31968,  0.32967,  0.33966,  0.34965,\n",
       "         0.35964,  0.36963,  0.37962,  0.38961,  0.3996 ,  0.40959,\n",
       "         0.41958,  0.42957,  0.43956,  0.44955,  0.45954,  0.46953,\n",
       "         0.47952,  0.48951,  0.4995 ,  0.50949,  0.51948,  0.52947,\n",
       "         0.53946,  0.54945,  0.55944,  0.56943,  0.57942,  0.58941,\n",
       "         0.5994 ,  0.60939,  0.61938,  0.62937,  0.63936,  0.64935,\n",
       "         0.65934,  0.66933,  0.67932,  0.68931,  0.6993 ,  0.70929,\n",
       "         0.71928,  0.72927,  0.73926,  0.74925,  0.75924,  0.76923,\n",
       "         0.77922,  0.78921,  0.7992 ,  0.80919,  0.81918,  0.82917,\n",
       "         0.83916,  0.84915,  0.85914,  0.86913,  0.87912,  0.88911,\n",
       "         0.8991 ,  0.90909,  0.91908,  0.92907,  0.93906,  0.94905,\n",
       "         0.95904,  0.96903,  0.97902,  0.98901,  0.999  ]),\n",
       " <a list of 100 Patch objects>)"
      ]
     },
     "execution_count": 18,
     "metadata": {},
     "output_type": "execute_result"
    },
    {
     "data": {
      "image/png": "[encoded data removed]",
      "text/plain": [
       "<matplotlib.figure.Figure at 0x2df2ae3e320>"
      ]
     },
     "metadata": {
      "needs_background": "light"
     },
     "output_type": "display_data"
    }
   ],
   "source": [
    "plt.hist(count_positive(10000),100)"
   ]
  },
  {
   "cell_type": "code",
   "execution_count": null,
   "metadata": {},
   "outputs": [],
   "source": []
  }
 ],
 "metadata": {
  "kernelspec": {
   "display_name": "Python 3",
   "language": "python",
   "name": "python3"
  },
  "language_info": {
   "codemirror_mode": {
    "name": "ipython",
    "version": 3
   },
   "file_extension": ".py",
   "mimetype": "text/x-python",
   "name": "python",
   "nbconvert_exporter": "python",
   "pygments_lexer": "ipython3",
   "version": "3.6.6"
  }
 },
 "nbformat": 4,
 "nbformat_minor": 2
}
