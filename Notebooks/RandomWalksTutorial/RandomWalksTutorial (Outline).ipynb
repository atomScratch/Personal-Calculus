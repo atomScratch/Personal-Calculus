{
 "cells": [
  {
   "cell_type": "markdown",
   "metadata": {},
   "source": [
    "# Random Walks & Diffusion - a JuPyter story"
   ]
  },
  {
   "cell_type": "markdown",
   "metadata": {},
   "source": [
    "Diffusion is the random bouncing of a particle, brought on by heat, the vibration of molecules. Suppose we have a single particle to track, and it exists on a line:\n",
    "![title](img/rw.png)\n",
    "At each \"interval of time\" here, it interacts randomly with the molecules in the solution. Increasing the heat makes it jump further, but no more randomly. \n",
    "\n",
    "This situation is indentical in form to what mathematicians refer to as a \"random walk.\" A random walk considers a point that jumps rando\n",
    "\n"
   ]
  },
  {
   "cell_type": "code",
   "execution_count": 2,
   "metadata": {},
   "outputs": [],
   "source": [
    "import matplotlib.pyplot as plt\n",
    "import numpy as np\n",
    "import random\n",
    "\n",
    "def random_walk(n_steps=1000, deltaX = 1, deltaY = 1):\n",
    "    step_list = [(0,0)]\n",
    "    up_down_vals = [-1*deltaY,deltaY]\n",
    "    for n in range(1,n_steps):\n",
    "        step_list.append((deltaX*n, (step_list[n-1][1] + random.choice(up_down_vals))))\n",
    "    return step_list"
   ]
  },
  {
   "cell_type": "markdown",
   "metadata": {},
   "source": [
    "# The Beta Distribution & Random Walks"
   ]
  },
  {
   "cell_type": "markdown",
   "metadata": {},
   "source": [
    "The code seen below performs one function; for n walks, count how many times a random walk is positive, and divide it by the total time of the walk. Then return a list of all fractions resulting from the n runs."
   ]
  },
  {
   "cell_type": "code",
   "execution_count": 3,
   "metadata": {},
   "outputs": [],
   "source": [
    "def count_positive(n_walks = 100, n_steps = 1000):\n",
    "    positive_fractions = []\n",
    "    # We begin by iterating by the given number of walks\n",
    "    for walk in range(n_walks):\n",
    "        positive_counter = 0\n",
    "        # Make a temporary variable for the walk in question\n",
    "        current_walk = random_walk(n_steps)\n",
    "        for value in current_walk:\n",
    "            if value[1] > 0:\n",
    "                positive_counter += 1\n",
    "        positive_fractions.append(positive_counter/n_steps)\n",
    "    return positive_fractions"
   ]
  },
  {
   "cell_type": "code",
   "execution_count": 26,
   "metadata": {},
   "outputs": [
    {
     "data": {
      "text/plain": [
       "(array([ 5.92929293,  2.04040404,  1.52525253,  1.37373737,  1.14141414,\n",
       "         1.13131313,  0.90909091,  0.87878788,  0.81818182,  0.91919192,\n",
       "         0.73737374,  0.72727273,  0.71717172,  0.65656566,  0.6969697 ,\n",
       "         0.63636364,  0.68686869,  0.43434343,  0.85858586,  0.56565657,\n",
       "         0.67676768,  0.60606061,  0.71717172,  0.56565657,  0.74747475,\n",
       "         0.71717172,  0.63636364,  0.65656566,  0.73737374,  0.67676768,\n",
       "         0.61616162,  0.47474747,  0.6969697 ,  0.64646465,  0.56565657,\n",
       "         0.77777778,  0.75757576,  0.75757576,  0.68686869,  0.66666667,\n",
       "         0.8989899 ,  0.93939394,  0.94949495,  0.92929293,  0.95959596,\n",
       "         1.25252525,  1.34343434,  1.47474747,  1.87878788,  3.11111111]),\n",
       " array([ 0.    ,  0.0198,  0.0396,  0.0594,  0.0792,  0.099 ,  0.1188,\n",
       "         0.1386,  0.1584,  0.1782,  0.198 ,  0.2178,  0.2376,  0.2574,\n",
       "         0.2772,  0.297 ,  0.3168,  0.3366,  0.3564,  0.3762,  0.396 ,\n",
       "         0.4158,  0.4356,  0.4554,  0.4752,  0.495 ,  0.5148,  0.5346,\n",
       "         0.5544,  0.5742,  0.594 ,  0.6138,  0.6336,  0.6534,  0.6732,\n",
       "         0.693 ,  0.7128,  0.7326,  0.7524,  0.7722,  0.792 ,  0.8118,\n",
       "         0.8316,  0.8514,  0.8712,  0.891 ,  0.9108,  0.9306,  0.9504,\n",
       "         0.9702,  0.99  ]),\n",
       " <a list of 50 Patch objects>)"
      ]
     },
     "execution_count": 26,
     "metadata": {},
     "output_type": "execute_result"
    },
    {
     "data": {
      "image/png": "[encoded data removed]",
      "text/plain": [
       "<matplotlib.figure.Figure at 0x1998c370080>"
      ]
     },
     "metadata": {
      "needs_background": "light"
     },
     "output_type": "display_data"
    }
   ],
   "source": [
    "runs = 5000\n",
    "steps = 100\n",
    "\n",
    "\n",
    "arcsine_domain = np.linspace(0.001,1,steps, endpoint = False)\n",
    "arcsine_range = []\n",
    "\n",
    "def arcsine_distribution(x_val):\n",
    "    return 1.0/(np.pi*np.sqrt(x_val*(1-x_val)))\n",
    "\n",
    "for x_val in arcsine_domain:\n",
    "    arcsine_range.append(arcsine_distribution(x_val))\n",
    "\n",
    "plt.plot(arcsine_domain, arcsine_range, 'r-')\n",
    "plt.hist(count_positive(runs, steps),bins=50,normed=True)"
   ]
  },
  {
   "cell_type": "code",
   "execution_count": null,
   "metadata": {},
   "outputs": [],
   "source": []
  }
 ],
 "metadata": {
  "kernelspec": {
   "display_name": "Python 3",
   "language": "python",
   "name": "python3"
  },
  "language_info": {
   "codemirror_mode": {
    "name": "ipython",
    "version": 3
   },
   "file_extension": ".py",
   "mimetype": "text/x-python",
   "name": "python",
   "nbconvert_exporter": "python",
   "pygments_lexer": "ipython3",
   "version": "3.6.6"
  }
 },
 "nbformat": 4,
 "nbformat_minor": 2
}
