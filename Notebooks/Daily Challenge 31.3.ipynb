{
 "cells": [
  {
   "cell_type": "code",
   "execution_count": 36,
   "metadata": {},
   "outputs": [],
   "source": [
    "from scipy.integrate import quad\n",
    "from numpy import sqrt, sin, cos, pi\n",
    "import numpy as np\n",
    "import matplotlib.pyplot as plt"
   ]
  },
  {
   "cell_type": "code",
   "execution_count": 60,
   "metadata": {},
   "outputs": [],
   "source": [
    "def get_fourier_coeffs(f, L, N=100):\n",
    "    a_list = []\n",
    "    b_list = []\n",
    "    \n",
    "    for i in range(N):\n",
    "        if i == 0:\n",
    "            a_list.append(1/L * (quad(f,0,L))[0])\n",
    "            b_list.append(0)\n",
    "        else:\n",
    "            def a_func(x):\n",
    "                return (f(x) * cos((2 * np.pi * i * x)/L))\n",
    "            a_list.append(round((2/L * quad(a_func,0,L)[0]),3))\n",
    "                          \n",
    "            def b_func(x):\n",
    "                return (f(x) * sin((2 * np.pi * i * x)/L))\n",
    "            b_list.append(round((2/L * quad(b_func,0,L)[0]),3))\n",
    "    output = [a_list, b_list]\n",
    "    return output"
   ]
  },
  {
   "cell_type": "code",
   "execution_count": 61,
   "metadata": {},
   "outputs": [],
   "source": [
    "def test_cosine_sum(x, L=1):\n",
    "    return 4*cos(2*pi*x/L) - cos(4*pi*x/L) + 2*cos(6*pi*x/L)"
   ]
  },
  {
   "cell_type": "code",
   "execution_count": 62,
   "metadata": {},
   "outputs": [
    {
     "data": {
      "text/plain": [
       "[[-5.342948306008566e-16, 4.0, -1.0, 2.0, -0.0], [0, -0.0, -0.0, 0.0, -0.0]]"
      ]
     },
     "execution_count": 62,
     "metadata": {},
     "output_type": "execute_result"
    }
   ],
   "source": [
    "get_fourier_coeffs(test_cosine_sum, L=1, N=5)"
   ]
  },
  {
   "cell_type": "code",
   "execution_count": 32,
   "metadata": {},
   "outputs": [],
   "source": [
    "def square_wave(x):\n",
    "    if 0 <= x < 1:\n",
    "        return 1\n",
    "    if 1 <= x < 2:\n",
    "        return -1"
   ]
  },
  {
   "cell_type": "code",
   "execution_count": 70,
   "metadata": {},
   "outputs": [
    {
     "name": "stdout",
     "output_type": "stream",
     "text": [
      "[[0.0, 0.0, -0.0, 0.0, 0.0, 0.0, -0.0, 0.0, 0.0, -0.0, 0.0, 0.0, 0.0, -0.0, 0.0, -0.0, -0.0, -0.0, 0.0, 0.0, -0.0, 0.0, -0.0, -0.0, -0.0, -0.0, -0.0, -0.0, -0.0, 0.0, 0.0, -0.0, -0.0, -0.0, -0.0, -0.0, 0.0, 0.0, -0.0, 0.0, -0.0, 0.0, -0.0, -0.0, 0.0, -0.0, 0.0, 0.0, 0.0, -0.0], [0, 1.273, 0.0, 0.424, -0.0, 0.255, 0.0, 0.182, -0.0, 0.141, -0.0, 0.116, 0.0, 0.098, 0.0, 0.085, 0.0, 0.075, 0.0, 0.067, 0.0, 0.061, 0.0, 0.055, 0.0, 0.051, 0.0, 0.047, 0.0, 0.044, -0.0, 0.041, -0.0, 0.039, 0.0, 0.036, 0.0, 0.034, 0.0, 0.033, 0.0, 0.031, 0.0, 0.03, -0.0, 0.028, -0.0, 0.027, -0.0, 0.026]]\n"
     ]
    },
    {
     "data": {
      "text/plain": [
       "[<matplotlib.lines.Line2D at 0x24e7b39bbe0>]"
      ]
     },
     "execution_count": 70,
     "metadata": {},
     "output_type": "execute_result"
    },
    {
     "data": {
      "image/png": "[encoded data removed]",
      "text/plain": [
       "<matplotlib.figure.Figure at 0x24e7b150ba8>"
      ]
     },
     "metadata": {
      "needs_background": "light"
     },
     "output_type": "display_data"
    }
   ],
   "source": [
    "x_vals = np.linspace(0,2,200)\n",
    "\n",
    "square_wave_list = []\n",
    "for value in x_vals:\n",
    "    square_wave_list.append(square_wave(value))\n",
    "    \n",
    "\n",
    "N = 50\n",
    "\n",
    "fourier_coeffs = get_fourier_coeffs(square_wave, L = 2, N = N)\n",
    "\n",
    "print(fourier_coeffs)\n",
    "\n",
    "def fourier_partial_series(x,n):\n",
    "    return fourier_coeffs[0][n] * cos((2 * np.pi * n * x )/2) + fourier_coeffs[1][n] * sin((2 * np.pi * n * x )/2)\n",
    "    \n",
    "fourier_list = []\n",
    "for value in x_vals:\n",
    "    active_add = 0\n",
    "    for n in range(N):\n",
    "        active_add += (fourier_partial_series(value,n))\n",
    "    fourier_list.append(active_add)\n",
    "        \n",
    "plt.plot(x_vals, square_wave_list )\n",
    "plt.plot(x_vals, fourier_list)"
   ]
  },
  {
   "cell_type": "code",
   "execution_count": null,
   "metadata": {},
   "outputs": [],
   "source": []
  }
 ],
 "metadata": {
  "kernelspec": {
   "display_name": "Python 3",
   "language": "python",
   "name": "python3"
  },
  "language_info": {
   "codemirror_mode": {
    "name": "ipython",
    "version": 3
   },
   "file_extension": ".py",
   "mimetype": "text/x-python",
   "name": "python",
   "nbconvert_exporter": "python",
   "pygments_lexer": "ipython3",
   "version": "3.6.6"
  }
 },
 "nbformat": 4,
 "nbformat_minor": 2
}
