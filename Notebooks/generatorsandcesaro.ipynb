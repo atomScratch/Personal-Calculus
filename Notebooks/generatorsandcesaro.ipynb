{
 "cells": [
  {
   "cell_type": "markdown",
   "metadata": {},
   "source": [
    "# Generators and Infinite Sequences\n",
    "\n",
    "It is difficult to work with infinite streams of data, like sequences and series, using standard Python tools.\n",
    "\n",
    "For instance, the usual way to study terms in the Fibonacci sequence is to write a function that returns all Fibonnaccis up to some upper bound $M$, then get a sufficiently large chunk."
   ]
  },
  {
   "cell_type": "code",
   "execution_count": 32,
   "metadata": {},
   "outputs": [
    {
     "data": {
      "text/plain": [
       "[1, 1, 2, 3, 5, 8, 13, 21, 34, 55, 89, 144]"
      ]
     },
     "execution_count": 32,
     "metadata": {},
     "output_type": "execute_result"
    }
   ],
   "source": [
    "import numpy as np\n",
    "\n",
    "def fibs_up_to_M(M):\n",
    "    \"\"\"\n",
    "    Returns a list of Fibonacci numbers less than or equal to M\n",
    "    \"\"\"\n",
    "    x, y = 1, 1\n",
    "    \n",
    "    fiblist = [1,1]\n",
    "    \n",
    "    while fiblist[-1] <= M:\n",
    "        x, y = y, x+y\n",
    "        fiblist.append(y)\n",
    "        \n",
    "    return fiblist\n",
    "\n",
    "fibs_up_to_M(100)"
   ]
  },
  {
   "cell_type": "markdown",
   "metadata": {},
   "source": [
    "This is a sloppy solution if one wants to study the entire sequence $(a_n)$ of Fibonaccis.\n",
    "\n",
    "Every time we want to create a larger list up to a differnet maximum value $M'$, we must call this function again and repeat all of the computational work of computing the lower values.\n",
    "\n",
    "Furthermore, if $M$ is very large, it can be very inefficient to hold the entire list $(a_n)_{n=1}^{M}$ in memory, especially if we're interested in a problem that only needs to look at a single Fibonacci at a time.\n",
    "\n",
    "A much more efficient way to represent sequences in Python is via _generators_."
   ]
  },
  {
   "cell_type": "code",
   "execution_count": 2,
   "metadata": {},
   "outputs": [],
   "source": [
    "def fib_gen():\n",
    "    \"\"\"\n",
    "    Returns a generator that yields Fibonacci numbers\n",
    "    \"\"\"\n",
    "    x, y = 1, 1\n",
    "\n",
    "    while True:\n",
    "        yield y\n",
    "        x, y = y, x+y"
   ]
  },
  {
   "cell_type": "markdown",
   "metadata": {},
   "source": [
    "Notice the new keyword `yield`. Whenever a function block contains `yield`, Python automatically makes it a generator rather than an ordinary function.\n",
    "\n",
    "When Python sees a `yield` statement inside a generator, it \"freezes the state\" of all variables inside the generator. Then, the next time you call the generator, it picks up where you left off -- all variables take the values they had the last time it was called."
   ]
  },
  {
   "cell_type": "code",
   "execution_count": 22,
   "metadata": {},
   "outputs": [
    {
     "data": {
      "text/plain": [
       "1"
      ]
     },
     "execution_count": 22,
     "metadata": {},
     "output_type": "execute_result"
    }
   ],
   "source": [
    "my_gen = fib_gen()\n",
    "\n",
    "next(my_gen)"
   ]
  },
  {
   "cell_type": "markdown",
   "metadata": {},
   "source": [
    "The `next` keyword, predictably, grabs the next element from the generator. Now if we call it again, it continues where it left off."
   ]
  },
  {
   "cell_type": "code",
   "execution_count": 23,
   "metadata": {},
   "outputs": [
    {
     "data": {
      "text/plain": [
       "2"
      ]
     },
     "execution_count": 23,
     "metadata": {},
     "output_type": "execute_result"
    }
   ],
   "source": [
    "next(my_gen)"
   ]
  },
  {
   "cell_type": "code",
   "execution_count": 24,
   "metadata": {},
   "outputs": [
    {
     "name": "stdout",
     "output_type": "stream",
     "text": [
      "3\n",
      "5\n",
      "8\n",
      "13\n",
      "21\n",
      "34\n",
      "55\n",
      "89\n",
      "144\n",
      "233\n"
     ]
    }
   ],
   "source": [
    "for i in range(10):\n",
    "    print(next(my_gen))"
   ]
  },
  {
   "cell_type": "markdown",
   "metadata": {},
   "source": [
    "Using the generator and `next`, we can work with the values one at a time rather than putting them in a list.\n",
    "\n",
    "This can be convenient for operations which only need one value at a time, like getting partial sums of a sequence."
   ]
  },
  {
   "cell_type": "code",
   "execution_count": 33,
   "metadata": {},
   "outputs": [],
   "source": [
    "def generate_partial_sums(an):\n",
    "    \"\"\"\n",
    "    Takes in a sequence a_n and generates a stream of its partial sums\n",
    "    \"\"\"\n",
    "    sk = 0\n",
    "    \n",
    "    while True:\n",
    "        sk += next(an)\n",
    "        yield sk"
   ]
  },
  {
   "cell_type": "code",
   "execution_count": null,
   "metadata": {},
   "outputs": [],
   "source": [
    "def geometric_series(r):\n",
    "    \"\"\"\n",
    "    Returns terms in the geometric series r^n\n",
    "    \"\"\"\n",
    "    n = 0\n",
    "    \n",
    "    while True:\n",
    "        yield np.power(r, n)\n",
    "        n = n+1"
   ]
  },
  {
   "cell_type": "code",
   "execution_count": null,
   "metadata": {},
   "outputs": [],
   "source": [
    "geometric_sum = generate_partial_sums(geometric_series(0.5))\n",
    "\n",
    "for i in range(10):\n",
    "    print(next(geometric_sum))"
   ]
  },
  {
   "cell_type": "markdown",
   "metadata": {},
   "source": [
    "The partial sums are converging to $\\sum_{n=1}^{\\infty} \\left( \\frac{1}{2} \\right)^n = \\frac{1]{1 - \\frac{1}{2}} = 2$, as expected."
   ]
  },
  {
   "cell_type": "markdown",
   "metadata": {},
   "source": [
    "# Cesaro Summation\n",
    "\n",
    "A sequence $(a_n)$ is called _Cesaro summable_, with _Cesaro sum_ $\\ell$, if\n",
    "\n",
    "$$\\lim_{n \\to \\infty} \\frac{s_1 + \\cdots + s_n}{n} = \\ell ,$$\n",
    "\n",
    "where $s_k = a_1 + \\cdots + s_k$.\n",
    "\n",
    "That is: instead of asking for the usual partial sums $s_k$ to converge, Cesaro summation only asks for the _average_ of the partial sums to converge."
   ]
  },
  {
   "cell_type": "markdown",
   "metadata": {},
   "source": [
    "***(Part a)*** Every summable series is Cesaro summable, but not every Cesaro summable series is summable.\n",
    "\n",
    "Construct an example of a series which diverges (in the usual sense) but is still Cesaro summable. Type your answer below.\n",
    "\n",
    "(Hint: choose an alternating series whose terms don't go to zero in absolute value.)"
   ]
  },
  {
   "cell_type": "markdown",
   "metadata": {},
   "source": [
    "**Solution:** Consider the sequence \n",
    "\\begin{align} a_n = (-1)^n\\end{align}\n",
    "Then, suppose by way of contradiction that this series is convergent; then it must be true that $$\\lim_{n \\to \\infty} a_n = 0.$$ Clearly this is false, since $$a_n = \\pm 1.$$ However, the partial sums alternate between $-1$ and $0$ every point, so the limit in question equals \n",
    "\\begin{align} \\lim_{n \\to \\infty} \\frac{s_1 + \\cdots + s_n}{n} = \\lim_{n \\to \\infty} \\frac{\\frac{-1}{2}n}{n} = \\frac{-1}{2}. \\end{align}\n",
    "Thus, this sequence is both divergent and Cesaro summable (since the limit exists)."
   ]
  },
  {
   "cell_type": "markdown",
   "metadata": {},
   "source": [
    "***(Part b)*** Write a generator `cesaro_sums` which takes as input a generator `an` that yields terms in some sequence $a_n$, and yields the Cesaro partial sums.\n",
    "\n",
    "That is, your function should be able to accept the terms $a_n$ one-at-a-time, and return the average of the first $k$ partial sums one-at-a-time.\n",
    "\n",
    "_Hint_: you may think that you need to store _all_ of the partial sums to compute their average. This is not true. Using some algebra, you can quickly see that it's easy to compute the new average using only the old overage and the new data point. If $\\mu_{n-1}$ is the average of the first $n-1$ partial sums, i.e.\n",
    "\n",
    "$$\\mu_{n-1} = \\frac{s_1 + \\cdots + s_{n-1}}{n-1} , $$\n",
    "\n",
    "then the average of the first $n$ partial sums is\n",
    "\n",
    "$$\\mu_n = \\frac{s_1 + \\cdots + s_{n-1}}{n} = \\frac{(n-1) \\mu_{n-1} + s_n}{n}$$\n",
    "\n",
    "and therefore\n",
    "\n",
    "$$ \\mu_n = \\mu_{n-1} + \\frac{s_n - \\mu_{n-1}}{n} . $$\n",
    "\n",
    "This technique of computing the average in a one-at-a-time fashion, rather than keeping all the data points, is called an [online algorithm](https://en.wikipedia.org/wiki/Online_algorithm)."
   ]
  },
  {
   "cell_type": "code",
   "execution_count": 50,
   "metadata": {},
   "outputs": [],
   "source": [
    "def generate_cesaro_sums(an):\n",
    "    \"\"\"\n",
    "    Takes in a sequence a_n and generates a stream of the averages of its partial sums\n",
    "    \"\"\"\n",
    "    sk = 0\n",
    "    muk = 0\n",
    "    iteration = 0\n",
    "    \n",
    "    partial_sum_generator = generate_partial_sums(an)\n",
    "    while True:\n",
    "        iteration += 1\n",
    "        yield muk\n",
    "        sk = next(partial_sum_generator)\n",
    "        muk = muk + (sk - muk)/iteration"
   ]
  },
  {
   "cell_type": "code",
   "execution_count": 53,
   "metadata": {},
   "outputs": [],
   "source": [
    "def example_sequence():\n",
    "    x = -1\n",
    "    n = 1\n",
    "    while True:\n",
    "        yield x**n\n",
    "        n += 1"
   ]
  },
  {
   "cell_type": "code",
   "execution_count": 55,
   "metadata": {},
   "outputs": [
    {
     "name": "stdout",
     "output_type": "stream",
     "text": [
      "0\n",
      "-1.0\n",
      "-0.5\n",
      "-0.6666666666666666\n",
      "-0.5\n"
     ]
    }
   ],
   "source": [
    "test_generator = generate_cesaro_sums(example_sequence())\n",
    "for x in range(5):\n",
    "    print(next(test_generator))"
   ]
  }
 ],
 "metadata": {
  "kernelspec": {
   "display_name": "Python 3",
   "language": "python",
   "name": "python3"
  },
  "language_info": {
   "codemirror_mode": {
    "name": "ipython",
    "version": 3
   },
   "file_extension": ".py",
   "mimetype": "text/x-python",
   "name": "python",
   "nbconvert_exporter": "python",
   "pygments_lexer": "ipython3",
   "version": "3.6.6"
  }
 },
 "nbformat": 4,
 "nbformat_minor": 2
}
